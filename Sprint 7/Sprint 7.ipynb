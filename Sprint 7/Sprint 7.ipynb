{
 "cells": [
  {
   "cell_type": "markdown",
   "metadata": {},
   "source": [
    "# Nivell 1"
   ]
  },
  {
   "cell_type": "markdown",
   "metadata": {},
   "source": [
    "#### Exercici: 1.  Calculadora de l'índex de massa corporal\n",
    "Escriu una funció que calculi l'IMC ingressat per l'usuari/ària, és a dir, qui ho executi haurà d'ingressar aquestes dades. Pots obtenir més informació del seu càlcul en: La funció ha de classificar el resultat en les seves respectives categories.\n",
    "Bajo peso: menos de 18,5.\n",
    "Peso normal: 18,5-24,9.\n",
    "Sobrepeso: 25-29,9.\n",
    "Obesidad: más de 30."
   ]
  },
  {
   "cell_type": "code",
   "execution_count": 27,
   "metadata": {},
   "outputs": [
    {
     "name": "stdin",
     "output_type": "stream",
     "text": [
      "Enter your weight in kg 85\n",
      "Enter your height in meters 1.88\n"
     ]
    },
    {
     "name": "stdout",
     "output_type": "stream",
     "text": [
      "24.0 IMC normal\n"
     ]
    }
   ],
   "source": [
    "def calcul_imc():\n",
    "    try:\n",
    "        kg = float(input(\"Enter your weight in kg\"))\n",
    "        height = float(input(\"Enter your height in meters\"))\n",
    "        if kg <= 0 or height <= 0:\n",
    "           print(\"Els números han de ser positius\")\n",
    "           return\n",
    "    \n",
    "        imc = float(round(kg/(height**2), 1))\n",
    "        if 0 <= imc < 18.5 :  \n",
    "            print(f\"{imc} IMC baix\")\n",
    "        elif 18.5 <= imc < 25:\n",
    "            print(f\"{imc} IMC normal\")\n",
    "        elif 25 <= imc < 30:S\n",
    "            print(f\"{imc} IMC alt\")\n",
    "        else:\n",
    "            print(f\"{imc} és un IMC molt alt\")\n",
    "    except ValueError:\n",
    "       print(\"Introdueix un número vàlid\")\n",
    "calcul_imc()"
   ]
  },
  {
   "cell_type": "markdown",
   "metadata": {},
   "source": [
    "#### Exercici: 2. Convertidor de temperatures.\n",
    "\n",
    "Existeixen diverses unitats de temperatura utilitzades en diferents contextos i regions. Les més comunes són Celsius (°C), Fahrenheit (°F) i Kelvin (K). També existeixen altres unitats com Rankine (°Ra) i Réaumur (°Re). Selecciona almenys 2 conversors, de tal manera que en introduir una temperatura retorni, com a mínim, dues conversions."
   ]
  },
  {
   "cell_type": "code",
   "execution_count": 1,
   "metadata": {},
   "outputs": [
    {
     "name": "stdin",
     "output_type": "stream",
     "text": [
      "Introdueix la temperatura en Celsius 30\n"
     ]
    },
    {
     "name": "stdout",
     "output_type": "stream",
     "text": [
      "30.0ºC equivalen a 304.15ºK i 24.0ºR\n"
     ]
    }
   ],
   "source": [
    "celsius = float(input(\"Introdueix la temperatura en Celsius\"))\n",
    "kelvin = round(celsius + 274.15, 2)\n",
    "reaumur = round(celsius * 0.8, 2)\n",
    "\n",
    "print(f\"{celsius}ºC equivalen a {kelvin}ºK i {reaumur}ºR\")"
   ]
  },
  {
   "cell_type": "code",
   "execution_count": 15,
   "metadata": {},
   "outputs": [
    {
     "name": "stdin",
     "output_type": "stream",
     "text": [
      "Quina unitat de temperatura vols convertir, celsius, fahrenheit o kelvin? celsius\n",
      "A quina unitat ho vols convertir, celsius, fahrenheit o kelvin? fahrenheit\n",
      "A quina altra mesura vols convertir-ho? kelvin\n",
      "Quants graus convertim? ten\n"
     ]
    },
    {
     "name": "stdout",
     "output_type": "stream",
     "text": [
      "Error: Introdueix un número vàlid\n"
     ]
    }
   ],
   "source": [
    "import pandas as pd\n",
    "\n",
    "df = pd.read_excel(r\"C:\\Users\\Griselda\\Desktop\\Bootcamp Data Analytics\\Sprint 7\\conversion.xlsx\", index_col = 0)\n",
    "\n",
    "df.columns = df.columns.str.strip().str.lower()\n",
    "df.index = df.index.str.strip().str.lower()\n",
    "\n",
    "available_units = df.index.tolist()\n",
    "\n",
    "origen = input(\"Quina unitat de temperatura vols convertir, celsius, fahrenheit o kelvin?\").lower().strip()\n",
    "desti1 = input(\"A quina unitat ho vols convertir, celsius, fahrenheit o kelvin?\").lower().strip()\n",
    "desti2 = input(\"A quina altra mesura vols convertir-ho?\").lower().strip()\n",
    "\n",
    "def check_conversor():\n",
    "    if origen not in available_units:\n",
    "        print(f\"Error: {origen} no és una opció vàlida, siusplau, introdueix una de les següents: {available_units}\")\n",
    "        return None\n",
    "    if desti1 not in available_units:\n",
    "        print(f\"Error: {desti1} no és una opció vàlida, siusplau, introdueix una de les següents: {available_units}\")\n",
    "        return None\n",
    "    if desti2 not in available_units:\n",
    "        print(f\"Error: {desti2} no és una opció vàlida, siusplau, introdueix una de les següents: {available_units}\")\n",
    "        return None\n",
    "\n",
    "    try:\n",
    "        graus = float(input(\"Quants graus convertim?\"))\n",
    "    except ValueError:\n",
    "        print(\"Error: Introdueix un número vàlid\")\n",
    "        return None\n",
    "       \n",
    "    \n",
    "    formula1 = df.loc[origen, desti1]\n",
    "    result1 = round(eval(formula1), 2)\n",
    "    \n",
    "    formula2 = df.loc[origen, desti2]\n",
    "    result2 = round(eval(formula2), 2)\n",
    "    \n",
    "    print(f\"{graus} graus {origen} son: \\n{result1} graus {desti1} \\n{result2} graus {desti2}\")\n",
    "\n",
    "check_conversor()"
   ]
  },
  {
   "cell_type": "markdown",
   "metadata": {},
   "source": [
    "#### Exercici: 3. Comptador de paraules d'un text.\n",
    "\n",
    "Escriu una funció que donat un text, mostri les vegades que apareix cada paraula."
   ]
  },
  {
   "cell_type": "code",
   "execution_count": 33,
   "metadata": {},
   "outputs": [
    {
     "name": "stdin",
     "output_type": "stream",
     "text": [
      "Introdueix un text molt bon hola i dia\n"
     ]
    },
    {
     "name": "stdout",
     "output_type": "stream",
     "text": [
      "{'molt': 1, 'bon': 1, 'hola': 1, 'i': 1, 'dia': 1}\n",
      "molt : 1\n",
      "bon : 1\n",
      "hola : 1\n",
      "i : 1\n",
      "dia : 1\n"
     ]
    }
   ],
   "source": [
    "import re\n",
    "\n",
    "def words_count():\n",
    "\n",
    "    dic_text = {}\n",
    "    \n",
    "    text = input(\"Introdueix un text\").lower()\n",
    "    only_words = re.sub(r\"[^\\w\\s]\", \"\", text)\n",
    "    separacio = only_words.split()\n",
    "    for paraula in separacio:\n",
    "            if paraula != \" \":\n",
    "                if paraula in dic_text:\n",
    "                    dic_text[paraula] +=1\n",
    "                else:\n",
    "                    dic_text[paraula] =1\n",
    "    print(dic_text)\n",
    "    for paraula, recompte in dic_text.items():\n",
    "            print(f\"{paraula} : {recompte}\")\n",
    "\n",
    "words_count()"
   ]
  },
  {
   "cell_type": "markdown",
   "metadata": {},
   "source": [
    "#### Exercici 4: Diccionari invers.\n",
    "\n",
    "Resulta que el client té una enquesta molt antiga que s'emmagatzema en un diccionari i els resultats els necessita al revés, és a dir, intercanviats les claus i els valors. Els valors i claus en el diccionari original són únics; si aquest no és el cas, la funció hauria d'imprimir un missatge d'advertiment."
   ]
  },
  {
   "cell_type": "code",
   "execution_count": 16,
   "metadata": {},
   "outputs": [
    {
     "name": "stdout",
     "output_type": "stream",
     "text": [
      "{1: 'a', 2: 'b', 3: 'c'}\n",
      "banana: Error: multiple keys for one value\n"
     ]
    }
   ],
   "source": [
    "reverse_dictionary = ({\"a\" : 1, \"b\": 2, \"c\": 3})\n",
    "dictionary = {v:k for k, v in reverse_dictionary.items()}\n",
    "print(dictionary)\n",
    "\n",
    "reverse_dictionary2 = ({\"x\": \"apple\", \"y\": \"banana\", \"z\": \"banana\"})\n",
    "repe = {}\n",
    "for v in reverse_dictionary2.values():\n",
    "    if v in repe:\n",
    "        repe[v] += 1\n",
    "    else:\n",
    "        repe[v] = 1\n",
    "\n",
    "for fruita, v in repe.items():\n",
    "    if v > 1:\n",
    "        print(f\"{fruita}: Error: multiple keys for one value\")"
   ]
  },
  {
   "cell_type": "markdown",
   "metadata": {},
   "source": [
    "# Nivell 2"
   ]
  },
  {
   "cell_type": "markdown",
   "metadata": {},
   "source": [
    "#### Exercici 1: Diccionari invers amb duplicats\n",
    "\n",
    "Continuant amb l'exercici 4 del nivell 1: al client es va oblidar de comentar un detall i resulta que els valors en el diccionari original poden duplicar-se i més, per la qual cosa les claus intercanviades poden tenir duplicats. En aquest cas, en l'exercici anterior imprimies un missatge d'advertiment, ara, els valors del diccionari resultant hauran d'emmagatzemar-se com una llista. Tingues en compte que si és un valor únic no ha de ser una llista."
   ]
  },
  {
   "cell_type": "code",
   "execution_count": 51,
   "metadata": {},
   "outputs": [
    {
     "name": "stdout",
     "output_type": "stream",
     "text": [
      "{'apple': ['x'], 'banana': ['y', 'z']}\n",
      "{'apple': 'x', 'banana': ['y', 'z']}\n"
     ]
    }
   ],
   "source": [
    "def girar_values():\n",
    "    reverse_dictionary2 = ({\"x\": \"apple\", \"y\": \"banana\", \"z\": \"banana\"})\n",
    "    dictionary2 = {}\n",
    "\n",
    "    for k, v in reverse_dictionary2.items():\n",
    "        if v in dictionary2:\n",
    "            dictionary2[v].append(k)\n",
    "        else:\n",
    "            dictionary2[v]=[k]\n",
    "    print(dictionary2)\n",
    "girar_values()\n",
    "\n",
    "def delist(v):\n",
    "    while isinstance(v, list) and len(v) == 1:\n",
    "        v = v[0]\n",
    "    if len(v) == 0:\n",
    "        v = \"\"\n",
    "    return v\n",
    "    v += 1\n",
    "new_dict2 = {k: delist(v) for k, v in dictionary2.items()}\n",
    "print(new_dict2)\n"
   ]
  },
  {
   "cell_type": "markdown",
   "metadata": {},
   "source": [
    "#### Exercici 2: Conversió de tipus de dades\n",
    "\n",
    "El client rep una llista de dades i necessita generar dues llistes, la primera on estaran tots els elements que es van poder convertir en flotants i l'altra on estan els elements que no es van poder convertir. Exemple de la llista que rep el client: [ '1.3', 'one' , '1e10' , 'seven', '3-1/2', ('2',1,1.4,'not-a-number'), [1,2,'3','3.4']]"
   ]
  },
  {
   "cell_type": "code",
   "execution_count": 43,
   "metadata": {},
   "outputs": [
    {
     "name": "stdout",
     "output_type": "stream",
     "text": [
      "([1.3, 10000000000.0, 2.0, 1.0, 1.4, 1.0, 2.0, 3.0, 3.4], ['one', 'seven', '3-1/2', 'not-a-number'])\n"
     ]
    }
   ],
   "source": [
    "conversion = ['1.3', 'one' , '1e10' , 'seven', '3-1/2', ('2',1,1.4,'not-a-number'), [1,2,'3','3.4']]\n",
    "floats = []\n",
    "nofloat = []\n",
    "\n",
    "def llistes(x):\n",
    "        if isinstance(x, float):\n",
    "            floats.append(x)\n",
    "        elif isinstance(x, int):\n",
    "            floats.append(float(x))\n",
    "        elif isinstance(x, str):\n",
    "            try:\n",
    "                floats.append(float(x))\n",
    "            except ValueError:\n",
    "                nofloat.append(x)\n",
    "        elif isinstance(x, list) or isinstance(x,tuple):\n",
    "             for a in x:\n",
    "                  llistes(a)\n",
    "        else:\n",
    "            nofloat.append(x)\n",
    "\n",
    "def llista(elements):\n",
    "     for elem in elements:\n",
    "          llistes(elem)\n",
    "llista(conversion)\n",
    "\n",
    "print((floats, nofloat))"
   ]
  },
  {
   "cell_type": "markdown",
   "metadata": {},
   "source": [
    "# Nivell 3"
   ]
  },
  {
   "cell_type": "markdown",
   "metadata": {},
   "source": [
    "#### Exercici 1: Comptador i endreçador de paraules d'un text.\n",
    "\n",
    "El client va quedar content amb el comptador de paraules, però ara vol llegir arxius TXT i que calculi la freqüència de cada paraula ordenades dins de les entrades habituals del diccionari segons la lletra amb la qual comencen, és a dir, les claus han d'anar de la A a la Z i dins de la A hem d'anar de la A la Z. Per exemple, per a l'arxiu \"tu_me_quieres_blanca.txt\" la sortida esperada seria:"
   ]
  },
  {
   "cell_type": "code",
   "execution_count": 3,
   "metadata": {},
   "outputs": [
    {
     "name": "stdout",
     "output_type": "stream",
     "text": [
      "['a', 'a', 'a', 'agua', 'al', 'al', 'alba', 'alba', 'alba', 'alba', 'alcobas', 'alimenta', 'alma', 'amarga', 'azucena', 'baco', 'banquete', 'bebe', 'blanca', 'blanca', 'blanca', 'boca', 'bosques', 'buen', 'cabañas', 'carnes', 'carnes', 'casta', 'casta', 'casta', 'cerrada', 'con', 'con', 'con', 'con', 'conservas', 'copas', 'corola', 'corriste', 'cuando', 'cuando', 'cubierto', 'cuerpo', 'cuáles', 'de', 'de', 'de', 'de', 'de', 'de', 'de', 'de', 'dejaste', 'del', 'diga', 'dios', 'dios', 'duerme', 'el', 'el', 'el', 'el', 'ellas', 'en', 'en', 'en', 'en', 'engaño', 'enredada', 'entonces', 'escarcha', 'espumas', 'esqueleto', 'estrago', 'festejando', 'filtrado', 'frutos', 'habla', 'hacia', 'haya', 'hayas', 'hermana', 'hombre', 'hubiste', 'huye', 'intacto', 'jardines', 'la', 'la', 'la', 'labios', 'las', 'las', 'las', 'las', 'las', 'las', 'las', 'lo', 'lo', 'los', 'los', 'los', 'los', 'luna', 'lévate', 'límpiate', 'mano', 'manos', 'margarita', 'me', 'me', 'me', 'me', 'me', 'me', 'me', 'me', 'me', 'me', 'mi', 'mieles', 'milagros', 'mojada', 'montaña', 'morados', 'negros', 'ni', 'ni', 'no', 'nácar', 'nívea', 'nívea', 'perdone', 'perdone', 'perfume', 'por', 'por', 'pretendes', 'pretendes', 'pretendes', 'preténdeme', 'preténdeme', 'preténdeme', 'puesto', 'pájaros', 'pámpanos', 'que', 'que', 'que', 'que', 'que', 'que', 'quedó', 'quieres', 'quieres', 'quieres', 'quieres', 'quieres', 'quieres', 'rayo', 'raíz', 'renueva', 'rocas', 'rojo', 'salitre', 'se', 'se', 'sea', 'sean', 'sobre', 'sobre', 'sé', 'te', 'te', 'te', 'tejidos', 'tenue', 'tierra', 'toca', 'todas', 'todas', 'todavía', 'tornadas', 'tú', 'tú', 'tú', 'tú', 'tú', 'tú', 'tú', 'tú', 'un', 'una', 'vestido', 'vete', 'vive', 'y', 'y', 'y', 'y', 'y'] \n",
      "\n",
      "a : {'a': 3, 'agua': 1, 'al': 2, 'alba': 4, 'alcobas': 1, 'alimenta': 1, 'alma': 1, 'amarga': 1, 'azucena': 1}\n",
      "b : {'baco': 1, 'banquete': 1, 'bebe': 1, 'blanca': 3, 'boca': 1, 'bosques': 1, 'buen': 1}\n",
      "c : {'cabañas': 1, 'carnes': 2, 'casta': 3, 'cerrada': 1, 'con': 4, 'conservas': 1, 'copas': 1, 'corola': 1, 'corriste': 1, 'cuando': 2, 'cubierto': 1, 'cuerpo': 1, 'cuáles': 1}\n",
      "d : {'de': 8, 'dejaste': 1, 'del': 1, 'diga': 1, 'dios': 2, 'duerme': 1}\n",
      "e : {'el': 4, 'ellas': 1, 'en': 4, 'engaño': 1, 'enredada': 1, 'entonces': 1, 'escarcha': 1, 'espumas': 1, 'esqueleto': 1, 'estrago': 1}\n",
      "f : {'festejando': 1, 'filtrado': 1, 'frutos': 1}\n",
      "h : {'habla': 1, 'hacia': 1, 'haya': 1, 'hayas': 1, 'hermana': 1, 'hombre': 1, 'hubiste': 1, 'huye': 1}\n",
      "i : {'intacto': 1}\n",
      "j : {'jardines': 1}\n",
      "l : {'la': 3, 'labios': 1, 'las': 7, 'lo': 2, 'los': 4, 'luna': 1, 'lévate': 1, 'límpiate': 1}\n",
      "m : {'mano': 1, 'manos': 1, 'margarita': 1, 'me': 10, 'mi': 1, 'mieles': 1, 'milagros': 1, 'mojada': 1, 'montaña': 1, 'morados': 1}\n",
      "n : {'negros': 1, 'ni': 2, 'no': 1, 'nácar': 1, 'nívea': 2}\n",
      "p : {'perdone': 2, 'perfume': 1, 'por': 2, 'pretendes': 3, 'preténdeme': 3, 'puesto': 1, 'pájaros': 1, 'pámpanos': 1}\n",
      "q : {'que': 6, 'quedó': 1, 'quieres': 6}\n",
      "r : {'rayo': 1, 'raíz': 1, 'renueva': 1, 'rocas': 1, 'rojo': 1}\n",
      "s : {'salitre': 1, 'se': 2, 'sea': 1, 'sean': 1, 'sobre': 2, 'sé': 1}\n",
      "t : {'te': 3, 'tejidos': 1, 'tenue': 1, 'tierra': 1, 'toca': 1, 'todas': 2, 'todavía': 1, 'tornadas': 1, 'tú': 8}\n",
      "u : {'un': 1, 'una': 1}\n",
      "v : {'vestido': 1, 'vete': 1, 'vive': 1}\n",
      "y : {'y': 5}\n"
     ]
    }
   ],
   "source": [
    "with open(r\"C:\\Users\\Griselda\\Desktop\\Bootcamp Data Analytics\\Sprint 7\\tu_me_quieres_blanca.txt\", \"r\", encoding = \"utf-8\") as file:\n",
    "    poema = file.read().lower()\n",
    "\n",
    "import re\n",
    "import string\n",
    "\n",
    "def count_words():\n",
    "    caracters_out = re.sub(r\"[^\\w\\s]\", \"\", poema)\n",
    "    paraules = sorted(caracters_out.split())\n",
    "    print(paraules, \"\\n\")\n",
    "\n",
    "    dic_blanca = {}\n",
    "    \n",
    "    for p in paraules:\n",
    "        if p in dic_blanca:\n",
    "            dic_blanca[p] +=1\n",
    "        else:\n",
    "             dic_blanca[p] =1\n",
    "    return dic_blanca\n",
    "    \n",
    "dic_blanca = count_words()\n",
    "\n",
    "def fun_abecedari():\n",
    "    abecedari1 = list(string.ascii_lowercase)\n",
    "    accents = [\"á\", \"é\", \"í\", \"ó\", \"ú\", \"ñ\"]\n",
    "    abecedari = {lletra: {} for lletra in (abecedari1 + accents)}\n",
    "    # print(abecedari, \"\\n\")\n",
    "\n",
    "    for paraula, frequencia in dic_blanca.items():\n",
    "        inicial = paraula[0]\n",
    "        abecedari[inicial][paraula] = frequencia #abecedari[inicial] -> agafa les lletres de l'abecedari - [paraula] -> ajunta la paraula a cada inicial - = frequencia -> afegeix la frequencia\n",
    "    return abecedari\n",
    "\n",
    "abecedari_dict = fun_abecedari()\n",
    "\n",
    "def resultat_net():\n",
    "    dic_final = {}\n",
    "    for inicial, diccionariparaules in abecedari_dict.items():\n",
    "        if not diccionariparaules:\n",
    "            continue #si no té contingut salta la inicial\n",
    "        dic_final[inicial] = diccionariparaules #si té contingut afegeix al diccionari\n",
    "    return dic_final\n",
    "dic_final = resultat_net()\n",
    "\n",
    "for inicial, paraula in dic_final.items():\n",
    "        print(f\"{inicial} : {paraula}\")"
   ]
  }
 ],
 "metadata": {
  "kernelspec": {
   "display_name": "Python 3 (ipykernel)",
   "language": "python",
   "name": "python3"
  },
  "language_info": {
   "codemirror_mode": {
    "name": "ipython",
    "version": 3
   },
   "file_extension": ".py",
   "mimetype": "text/x-python",
   "name": "python",
   "nbconvert_exporter": "python",
   "pygments_lexer": "ipython3",
   "version": "3.12.7"
  }
 },
 "nbformat": 4,
 "nbformat_minor": 4
}
