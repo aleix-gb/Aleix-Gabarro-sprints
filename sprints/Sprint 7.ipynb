{
 "cells": [
  {
   "cell_type": "markdown",
   "metadata": {},
   "source": [
    "# Nivell 1"
   ]
  },
  {
   "cell_type": "markdown",
   "metadata": {},
   "source": [
    "#### Exercici: 1.  Calculadora de l'índex de massa corporal\n",
    "Escriu una funció que calculi l'IMC ingressat per l'usuari/ària, és a dir, qui ho executi haurà d'ingressar aquestes dades. Pots obtenir més informació del seu càlcul en: La funció ha de classificar el resultat en les seves respectives categories.\n",
    "Bajo peso: menos de 18,5.\n",
    "Peso normal: 18,5-24,9.\n",
    "Sobrepeso: 25-29,9.\n",
    "Obesidad: más de 30."
   ]
  },
  {
   "cell_type": "code",
   "execution_count": 2,
   "metadata": {},
   "outputs": [
    {
     "name": "stdout",
     "output_type": "stream",
     "text": [
      "14.4 IMC baix\n",
      "{'pes baix': [14.4], 'pes normal': [], 'sobrepes': [], 'obesitat': []}\n"
     ]
    }
   ],
   "source": [
    "def calcul_imc():\n",
    "    dic = {\"pes baix\" : [], \"pes normal\": [], \"sobrepes\": [], \"obesitat\": []}\n",
    "    kg = float(input(\"Enter your weight in kg\"))\n",
    "    height = float(input(\"Enter your height in meters\"))\n",
    "    imc = float(round(kg/(height**2), 1))\n",
    "    if 0 <= imc < 18.5 :\n",
    "        dic[\"pes baix\"].append(imc)\n",
    "        print(f\"{imc} IMC baix\")\n",
    "    elif 18.5 <= imc < 25:\n",
    "        dic[\"pes normal\"].append(imc)\n",
    "        print(f\"{imc} IMC normal\")\n",
    "    elif 25 <= imc < 30:\n",
    "        dic[\"sobrepes\"].append(imc)\n",
    "        print(f\"{imc} IMC alt\")\n",
    "    elif imc >= 30:\n",
    "        dic[\"obesitat\"].append(imc)\n",
    "        print(f\"{imc} és un IMC molt alt\")\n",
    "    else: print(\"Introdueix un número vàlid\")\n",
    "    print(dic)\n",
    "calcul_imc()"
   ]
  },
  {
   "cell_type": "markdown",
   "metadata": {},
   "source": [
    "#### Exercici: 2. Convertidor de temperatures.\n",
    "\n",
    "Existeixen diverses unitats de temperatura utilitzades en diferents contextos i regions. Les més comunes són Celsius (°C), Fahrenheit (°F) i Kelvin (K). També existeixen altres unitats com Rankine (°Ra) i Réaumur (°Re). Selecciona almenys 2 conversors, de tal manera que en introduir una temperatura retorni, com a mínim, dues conversions."
   ]
  },
  {
   "cell_type": "code",
   "execution_count": 1,
   "metadata": {},
   "outputs": [
    {
     "name": "stdout",
     "output_type": "stream",
     "text": [
      "30.0ºC equivalen a 8224.5ºK i 24.0ºR\n"
     ]
    }
   ],
   "source": [
    "celsius = float(input(\"Introdueix la temperatura en Celsius\"))\n",
    "kelvin = round(celsius * 274.15, 2)\n",
    "reaumur = round(celsius * 0.8, 2)\n",
    "\n",
    "print(f\"{celsius}ºC equivalen a {kelvin}ºK i {reaumur}ºR\")"
   ]
  },
  {
   "cell_type": "markdown",
   "metadata": {},
   "source": [
    "#### Exercici: 3. Comptador de paraules d'un text.\n",
    "\n",
    "Escriu una funció que donat un text, mostri les vegades que apareix cada paraula."
   ]
  },
  {
   "cell_type": "code",
   "execution_count": 9,
   "metadata": {},
   "outputs": [
    {
     "name": "stdout",
     "output_type": "stream",
     "text": [
      "{'b': 2, 'o': 3, 'n': 2, 'd': 1, 'i': 2, 'a': 3, 'h': 1, 'r': 1}\n",
      "b : 2\n",
      "o : 3\n",
      "n : 2\n",
      "d : 1\n",
      "i : 2\n",
      "a : 3\n",
      "h : 1\n",
      "r : 1\n"
     ]
    }
   ],
   "source": [
    "dic_text = {}\n",
    "text = input(\"Introdueix un text\")\n",
    "for lletra in text:\n",
    "    if lletra != \" \":\n",
    "        if lletra in dic_text:\n",
    "            dic_text[lletra] +=1\n",
    "        else:\n",
    "            dic_text[lletra] =1\n",
    "print(dic_text)\n",
    "for lletra, recompte in dic_text.items():\n",
    "    print(f\"{lletra} : {recompte}\")\n"
   ]
  },
  {
   "cell_type": "markdown",
   "metadata": {},
   "source": [
    "#### Exercici 4: Diccionari invers.\n",
    "\n",
    "Resulta que el client té una enquesta molt antiga que s'emmagatzema en un diccionari i els resultats els necessita al revés, és a dir, intercanviats les claus i els valors. Els valors i claus en el diccionari original són únics; si aquest no és el cas, la funció hauria d'imprimir un missatge d'advertiment."
   ]
  },
  {
   "cell_type": "code",
   "execution_count": null,
   "metadata": {},
   "outputs": [
    {
     "name": "stdout",
     "output_type": "stream",
     "text": [
      "{1: 'a', 2: 'b', 3: 'c'}\n",
      "{'apple': 1, 'banana': 2}\n",
      "banana: Error: multiple keys for one value\n"
     ]
    }
   ],
   "source": [
    "reverse_dictionary = ({\"a\" : 1, \"b\": 2, \"c\": 3})\n",
    "dictionary = {v:k for k, v in reverse_dictionary.items()}\n",
    "print(dictionary)\n",
    "\n",
    "reverse_dictionary2 = ({\"x\": \"apple\", \"y\": \"banana\", \"z\": \"banana\"})\n",
    "repe = {}\n",
    "for v in reverse_dictionary2.values():\n",
    "    if v in repe:\n",
    "        repe[v] += 1\n",
    "    else:\n",
    "        repe[v] = 1\n",
    "print(repe)\n",
    "for fruita, v in repe.items():\n",
    "    if v > 1:\n",
    "        print(f\"{fruita}: Error: multiple keys for one value\")"
   ]
  },
  {
   "cell_type": "markdown",
   "metadata": {},
   "source": [
    "# Nivell 2"
   ]
  },
  {
   "cell_type": "markdown",
   "metadata": {},
   "source": [
    "#### Exercici 1: Diccionari invers amb duplicats\n",
    "\n",
    "Continuant amb l'exercici 4 del nivell 1: al client es va oblidar de comentar un detall i resulta que els valors en el diccionari original poden duplicar-se i més, per la qual cosa les claus intercanviades poden tenir duplicats. En aquest cas, en l'exercici anterior imprimies un missatge d'advertiment, ara, els valors del diccionari resultant hauran d'emmagatzemar-se com una llista. Tingues en compte que si és un valor únic no ha de ser una llista."
   ]
  },
  {
   "cell_type": "code",
   "execution_count": 15,
   "metadata": {},
   "outputs": [
    {
     "name": "stdout",
     "output_type": "stream",
     "text": [
      "{'apple': ['x'], 'banana': ['y', 'z']}\n",
      "{'apple': 'x', 'banana': ['y', 'z']}\n"
     ]
    }
   ],
   "source": [
    "reverse_dictionary2 = ({\"x\": \"apple\", \"y\": \"banana\", \"z\": \"banana\"})\n",
    "dictionary2 = {}\n",
    "for k, v in reverse_dictionary2.items():\n",
    "    if v in dictionary2:\n",
    "        dictionary2[v].append(k)\n",
    "    else:\n",
    "        dictionary2[v]=[k]\n",
    "print(dictionary2)\n",
    "\n",
    "def delist(v):\n",
    "    while isinstance(v, list) and len(v) == 1:\n",
    "        v = v[0]\n",
    "    if v == []:\n",
    "        v = \"\"\n",
    "    return v\n",
    "    v += 1\n",
    "new_dict2 = {k: delist(v) for k, v in dictionary2.items()}\n",
    "print(new_dict2)"
   ]
  },
  {
   "cell_type": "markdown",
   "metadata": {},
   "source": [
    "#### Exercici 2: Conversió de tipus de dades\n",
    "\n",
    "El client rep una llista de dades i necessita generar dues llistes, la primera on estaran tots els elements que es van poder convertir en flotants i l'altra on estan els elements que no es van poder convertir. Exemple de la llista que rep el client: [ '1.3', 'one' , '1e10' , 'seven', '3-1/2', ('2',1,1.4,'not-a-number'), [1,2,'3','3.4']]"
   ]
  },
  {
   "cell_type": "code",
   "execution_count": 8,
   "metadata": {},
   "outputs": [
    {
     "name": "stdout",
     "output_type": "stream",
     "text": [
      "([1.3, 10000000000.0, 2.0, 1.0, 1.4, 1.0, 2.0, 3.0, 3.4], ['one', 'seven', '3-1/2', 'not-a-number'])\n"
     ]
    }
   ],
   "source": [
    "conversion = ['1.3', 'one' , '1e10' , 'seven', '3-1/2', ('2',1,1.4,'not-a-number'), [1,2,'3','3.4']]\n",
    "floats = []\n",
    "nofloat = []\n",
    "\n",
    "def llistes(x):\n",
    "        if isinstance(x, float):\n",
    "            floats.append(x)\n",
    "        elif isinstance(x, int):\n",
    "            floats.append(float(x))\n",
    "        elif isinstance(x, str):\n",
    "            try:\n",
    "                floats.append(float(x))\n",
    "            except ValueError:\n",
    "                nofloat.append(x)\n",
    "        elif isinstance(x, list) or isinstance(x,tuple):\n",
    "             for a in x:\n",
    "                  llistes(a)\n",
    "        else:\n",
    "            nofloat.append(x)\n",
    "\n",
    "def llista(elements):\n",
    "     for elem in elements:\n",
    "          llistes(elem)\n",
    "llista(conversion)\n",
    "\n",
    "print((floats, nofloat))"
   ]
  },
  {
   "cell_type": "markdown",
   "metadata": {},
   "source": [
    "# Nivell 3"
   ]
  },
  {
   "cell_type": "markdown",
   "metadata": {},
   "source": [
    "#### Exercici 1: Comptador i endreçador de paraules d'un text.\n",
    "\n",
    "El client va quedar content amb el comptador de paraules, però ara vol llegir arxius TXT i que calculi la freqüència de cada paraula ordenades dins de les entrades habituals del diccionari segons la lletra amb la qual comencen, és a dir, les claus han d'anar de la A a la Z i dins de la A hem d'anar de la A la Z. Per exemple, per a l'arxiu \"tu_me_quieres_blanca.txt\" la sortida esperada seria:"
   ]
  },
  {
   "cell_type": "code",
   "execution_count": null,
   "metadata": {},
   "outputs": [
    {
     "name": "stdout",
     "output_type": "stream",
     "text": [
      "['a', 'a', 'a', 'agua', 'al', 'al', 'alba', 'alba', 'alba', 'alba', 'alcobas', 'alimenta', 'alma', 'amarga', 'azucena', 'baco', 'banquete', 'bebe', 'blanca', 'blanca', 'blanca', 'boca', 'bosques', 'buen', 'cabañas', 'carnes', 'carnes', 'casta', 'casta', 'casta', 'cerrada', 'con', 'con', 'con', 'con', 'conservas', 'copas', 'corola', 'corriste', 'cuando', 'cuando', 'cubierto', 'cuerpo', 'cuáles', 'de', 'de', 'de', 'de', 'de', 'de', 'de', 'de', 'dejaste', 'del', 'diga', 'dios', 'dios', 'duerme', 'el', 'el', 'el', 'el', 'ellas', 'en', 'en', 'en', 'en', 'engaño', 'enredada', 'entonces', 'escarcha', 'espumas', 'esqueleto', 'estrago', 'festejando', 'filtrado', 'frutos', 'habla', 'hacia', 'haya', 'hayas', 'hermana', 'hombre', 'hubiste', 'huye', 'intacto', 'jardines', 'la', 'la', 'la', 'labios', 'las', 'las', 'las', 'las', 'las', 'las', 'las', 'lo', 'lo', 'los', 'los', 'los', 'los', 'luna', 'lévate', 'límpiate', 'mano', 'manos', 'margarita', 'me', 'me', 'me', 'me', 'me', 'me', 'me', 'me', 'me', 'me', 'mi', 'mieles', 'milagros', 'mojada', 'montaña', 'morados', 'negros', 'ni', 'ni', 'no', 'nácar', 'nívea', 'nívea', 'perdone', 'perdone', 'perfume', 'por', 'por', 'pretendes', 'pretendes', 'pretendes', 'preténdeme', 'preténdeme', 'preténdeme', 'puesto', 'pájaros', 'pámpanos', 'que', 'que', 'que', 'que', 'que', 'que', 'quedó', 'quieres', 'quieres', 'quieres', 'quieres', 'quieres', 'quieres', 'rayo', 'raíz', 'renueva', 'rocas', 'rojo', 'salitre', 'se', 'se', 'sea', 'sean', 'sobre', 'sobre', 'sé', 'te', 'te', 'te', 'tejidos', 'tenue', 'tierra', 'toca', 'todas', 'todas', 'todavía', 'tornadas', 'tú', 'tú', 'tú', 'tú', 'tú', 'tú', 'tú', 'tú', 'un', 'una', 'vestido', 'vete', 'vive', 'y', 'y', 'y', 'y', 'y'] \n",
      "\n",
      "{'a': 3, 'agua': 1, 'al': 2, 'alba': 4, 'alcobas': 1, 'alimenta': 1, 'alma': 1, 'amarga': 1, 'azucena': 1, 'baco': 1, 'banquete': 1, 'bebe': 1, 'blanca': 3, 'boca': 1, 'bosques': 1, 'buen': 1, 'cabañas': 1, 'carnes': 2, 'casta': 3, 'cerrada': 1, 'con': 4, 'conservas': 1, 'copas': 1, 'corola': 1, 'corriste': 1, 'cuando': 2, 'cubierto': 1, 'cuerpo': 1, 'cuáles': 1, 'de': 8, 'dejaste': 1, 'del': 1, 'diga': 1, 'dios': 2, 'duerme': 1, 'el': 4, 'ellas': 1, 'en': 4, 'engaño': 1, 'enredada': 1, 'entonces': 1, 'escarcha': 1, 'espumas': 1, 'esqueleto': 1, 'estrago': 1, 'festejando': 1, 'filtrado': 1, 'frutos': 1, 'habla': 1, 'hacia': 1, 'haya': 1, 'hayas': 1, 'hermana': 1, 'hombre': 1, 'hubiste': 1, 'huye': 1, 'intacto': 1, 'jardines': 1, 'la': 3, 'labios': 1, 'las': 7, 'lo': 2, 'los': 4, 'luna': 1, 'lévate': 1, 'límpiate': 1, 'mano': 1, 'manos': 1, 'margarita': 1, 'me': 10, 'mi': 1, 'mieles': 1, 'milagros': 1, 'mojada': 1, 'montaña': 1, 'morados': 1, 'negros': 1, 'ni': 2, 'no': 1, 'nácar': 1, 'nívea': 2, 'perdone': 2, 'perfume': 1, 'por': 2, 'pretendes': 3, 'preténdeme': 3, 'puesto': 1, 'pájaros': 1, 'pámpanos': 1, 'que': 6, 'quedó': 1, 'quieres': 6, 'rayo': 1, 'raíz': 1, 'renueva': 1, 'rocas': 1, 'rojo': 1, 'salitre': 1, 'se': 2, 'sea': 1, 'sean': 1, 'sobre': 2, 'sé': 1, 'te': 3, 'tejidos': 1, 'tenue': 1, 'tierra': 1, 'toca': 1, 'todas': 2, 'todavía': 1, 'tornadas': 1, 'tú': 8, 'un': 1, 'una': 1, 'vestido': 1, 'vete': 1, 'vive': 1, 'y': 5} \n",
      "\n",
      "{'a': {'a': 3, 'agua': 1, 'al': 2, 'alba': 4, 'alcobas': 1, 'alimenta': 1, 'alma': 1, 'amarga': 1, 'azucena': 1}, 'b': {'baco': 1, 'banquete': 1, 'bebe': 1, 'blanca': 3, 'boca': 1, 'bosques': 1, 'buen': 1}, 'c': {'cabañas': 1, 'carnes': 2, 'casta': 3, 'cerrada': 1, 'con': 4, 'conservas': 1, 'copas': 1, 'corola': 1, 'corriste': 1, 'cuando': 2, 'cubierto': 1, 'cuerpo': 1, 'cuáles': 1}, 'd': {'de': 8, 'dejaste': 1, 'del': 1, 'diga': 1, 'dios': 2, 'duerme': 1}, 'e': {'el': 4, 'ellas': 1, 'en': 4, 'engaño': 1, 'enredada': 1, 'entonces': 1, 'escarcha': 1, 'espumas': 1, 'esqueleto': 1, 'estrago': 1}, 'f': {'festejando': 1, 'filtrado': 1, 'frutos': 1}, 'g': {}, 'h': {'habla': 1, 'hacia': 1, 'haya': 1, 'hayas': 1, 'hermana': 1, 'hombre': 1, 'hubiste': 1, 'huye': 1}, 'i': {'intacto': 1}, 'j': {'jardines': 1}, 'k': {}, 'l': {'la': 3, 'labios': 1, 'las': 7, 'lo': 2, 'los': 4, 'luna': 1, 'lévate': 1, 'límpiate': 1}, 'm': {'mano': 1, 'manos': 1, 'margarita': 1, 'me': 10, 'mi': 1, 'mieles': 1, 'milagros': 1, 'mojada': 1, 'montaña': 1, 'morados': 1}, 'n': {'negros': 1, 'ni': 2, 'no': 1, 'nácar': 1, 'nívea': 2}, 'o': {}, 'p': {'perdone': 2, 'perfume': 1, 'por': 2, 'pretendes': 3, 'preténdeme': 3, 'puesto': 1, 'pájaros': 1, 'pámpanos': 1}, 'q': {'que': 6, 'quedó': 1, 'quieres': 6}, 'r': {'rayo': 1, 'raíz': 1, 'renueva': 1, 'rocas': 1, 'rojo': 1}, 's': {'salitre': 1, 'se': 2, 'sea': 1, 'sean': 1, 'sobre': 2, 'sé': 1}, 't': {'te': 3, 'tejidos': 1, 'tenue': 1, 'tierra': 1, 'toca': 1, 'todas': 2, 'todavía': 1, 'tornadas': 1, 'tú': 8}, 'u': {'un': 1, 'una': 1}, 'v': {'vestido': 1, 'vete': 1, 'vive': 1}, 'w': {}, 'x': {}, 'y': {'y': 5}, 'z': {}, 'á': {}, 'é': {}, 'í': {}, 'ó': {}, 'ú': {}, 'ñ': {}} \n",
      "\n",
      "{'a': {'a': 3, 'agua': 1, 'al': 2, 'alba': 4, 'alcobas': 1, 'alimenta': 1, 'alma': 1, 'amarga': 1, 'azucena': 1}, 'b': {'baco': 1, 'banquete': 1, 'bebe': 1, 'blanca': 3, 'boca': 1, 'bosques': 1, 'buen': 1}, 'c': {'cabañas': 1, 'carnes': 2, 'casta': 3, 'cerrada': 1, 'con': 4, 'conservas': 1, 'copas': 1, 'corola': 1, 'corriste': 1, 'cuando': 2, 'cubierto': 1, 'cuerpo': 1, 'cuáles': 1}, 'd': {'de': 8, 'dejaste': 1, 'del': 1, 'diga': 1, 'dios': 2, 'duerme': 1}, 'e': {'el': 4, 'ellas': 1, 'en': 4, 'engaño': 1, 'enredada': 1, 'entonces': 1, 'escarcha': 1, 'espumas': 1, 'esqueleto': 1, 'estrago': 1}, 'f': {'festejando': 1, 'filtrado': 1, 'frutos': 1}, 'h': {'habla': 1, 'hacia': 1, 'haya': 1, 'hayas': 1, 'hermana': 1, 'hombre': 1, 'hubiste': 1, 'huye': 1}, 'i': {'intacto': 1}, 'j': {'jardines': 1}, 'l': {'la': 3, 'labios': 1, 'las': 7, 'lo': 2, 'los': 4, 'luna': 1, 'lévate': 1, 'límpiate': 1}, 'm': {'mano': 1, 'manos': 1, 'margarita': 1, 'me': 10, 'mi': 1, 'mieles': 1, 'milagros': 1, 'mojada': 1, 'montaña': 1, 'morados': 1}, 'n': {'negros': 1, 'ni': 2, 'no': 1, 'nácar': 1, 'nívea': 2}, 'p': {'perdone': 2, 'perfume': 1, 'por': 2, 'pretendes': 3, 'preténdeme': 3, 'puesto': 1, 'pájaros': 1, 'pámpanos': 1}, 'q': {'que': 6, 'quedó': 1, 'quieres': 6}, 'r': {'rayo': 1, 'raíz': 1, 'renueva': 1, 'rocas': 1, 'rojo': 1}, 's': {'salitre': 1, 'se': 2, 'sea': 1, 'sean': 1, 'sobre': 2, 'sé': 1}, 't': {'te': 3, 'tejidos': 1, 'tenue': 1, 'tierra': 1, 'toca': 1, 'todas': 2, 'todavía': 1, 'tornadas': 1, 'tú': 8}, 'u': {'un': 1, 'una': 1}, 'v': {'vestido': 1, 'vete': 1, 'vive': 1}, 'y': {'y': 5}} \n",
      "\n",
      "a : {'a': 3, 'agua': 1, 'al': 2, 'alba': 4, 'alcobas': 1, 'alimenta': 1, 'alma': 1, 'amarga': 1, 'azucena': 1}\n",
      "b : {'baco': 1, 'banquete': 1, 'bebe': 1, 'blanca': 3, 'boca': 1, 'bosques': 1, 'buen': 1}\n",
      "c : {'cabañas': 1, 'carnes': 2, 'casta': 3, 'cerrada': 1, 'con': 4, 'conservas': 1, 'copas': 1, 'corola': 1, 'corriste': 1, 'cuando': 2, 'cubierto': 1, 'cuerpo': 1, 'cuáles': 1}\n",
      "d : {'de': 8, 'dejaste': 1, 'del': 1, 'diga': 1, 'dios': 2, 'duerme': 1}\n",
      "e : {'el': 4, 'ellas': 1, 'en': 4, 'engaño': 1, 'enredada': 1, 'entonces': 1, 'escarcha': 1, 'espumas': 1, 'esqueleto': 1, 'estrago': 1}\n",
      "f : {'festejando': 1, 'filtrado': 1, 'frutos': 1}\n",
      "h : {'habla': 1, 'hacia': 1, 'haya': 1, 'hayas': 1, 'hermana': 1, 'hombre': 1, 'hubiste': 1, 'huye': 1}\n",
      "i : {'intacto': 1}\n",
      "j : {'jardines': 1}\n",
      "l : {'la': 3, 'labios': 1, 'las': 7, 'lo': 2, 'los': 4, 'luna': 1, 'lévate': 1, 'límpiate': 1}\n",
      "m : {'mano': 1, 'manos': 1, 'margarita': 1, 'me': 10, 'mi': 1, 'mieles': 1, 'milagros': 1, 'mojada': 1, 'montaña': 1, 'morados': 1}\n",
      "n : {'negros': 1, 'ni': 2, 'no': 1, 'nácar': 1, 'nívea': 2}\n",
      "p : {'perdone': 2, 'perfume': 1, 'por': 2, 'pretendes': 3, 'preténdeme': 3, 'puesto': 1, 'pájaros': 1, 'pámpanos': 1}\n",
      "q : {'que': 6, 'quedó': 1, 'quieres': 6}\n",
      "r : {'rayo': 1, 'raíz': 1, 'renueva': 1, 'rocas': 1, 'rojo': 1}\n",
      "s : {'salitre': 1, 'se': 2, 'sea': 1, 'sean': 1, 'sobre': 2, 'sé': 1}\n",
      "t : {'te': 3, 'tejidos': 1, 'tenue': 1, 'tierra': 1, 'toca': 1, 'todas': 2, 'todavía': 1, 'tornadas': 1, 'tú': 8}\n",
      "u : {'un': 1, 'una': 1}\n",
      "v : {'vestido': 1, 'vete': 1, 'vive': 1}\n",
      "y : {'y': 5}\n"
     ]
    }
   ],
   "source": [
    "with open(r\"C:\\Users\\formacio\\Downloads\\tu_me_quieres_blanca.txt\", \"r\", encoding = \"utf-8\") as file:\n",
    "    poema = file.read().lower()\n",
    "\n",
    "import re\n",
    "\n",
    "caracters_out = re.sub(r\"[^\\w\\s]\", \"\", poema)\n",
    "paraules = sorted(caracters_out.split())\n",
    "print(paraules, \"\\n\")\n",
    "\n",
    "dic_blanca = {}\n",
    "\n",
    "for p in paraules:\n",
    "    if p in dic_blanca:\n",
    "        dic_blanca[p] +=1\n",
    "    else:\n",
    "         dic_blanca[p] =1\n",
    "print(dic_blanca, \"\\n\")\n",
    "\n",
    "import string\n",
    "abecedari1 = list(string.ascii_lowercase)\n",
    "accents = [\"á\", \"é\", \"í\", \"ó\", \"ú\", \"ñ\"]\n",
    "abecedari = {lletra: {} for lletra in (abecedari1 + accents)}\n",
    "# print(abecedari, \"\\n\")\n",
    "    \n",
    "\n",
    "for paraula, frequencia in dic_blanca.items():\n",
    "    inicial = paraula[0]\n",
    "    abecedari[inicial][paraula] = frequencia #no tinc clara aquesta part\n",
    "print(abecedari, \"\\n\")\n",
    "\n",
    "dic_final = {}\n",
    "for inicial, paraula in abecedari.items():\n",
    "    if paraula:\n",
    "        dic_final[inicial] = paraula\n",
    "print(dic_final, \"\\n\")\n",
    "\n",
    "for inicial, paraula in dic_final.items():\n",
    "    print(f\"{inicial} : {paraula}\")\n",
    "\n",
    "\n",
    "\n",
    "# for paraula in poema:\n",
    "#     for lletra in paraula:\n",
    "#         if paraula.startswith(abecedari):\n",
    "#             paraula.append(dic_final)\n",
    "\n",
    "# print(dic_final)\n",
    "\n",
    "# for lletra in abecedari:w\n",
    "#     if\n"
   ]
  }
 ],
 "metadata": {
  "kernelspec": {
   "display_name": "Python 3",
   "language": "python",
   "name": "python3"
  },
  "language_info": {
   "codemirror_mode": {
    "name": "ipython",
    "version": 3
   },
   "file_extension": ".py",
   "mimetype": "text/x-python",
   "name": "python",
   "nbconvert_exporter": "python",
   "pygments_lexer": "ipython3",
   "version": "3.13.2"
  }
 },
 "nbformat": 4,
 "nbformat_minor": 2
}
